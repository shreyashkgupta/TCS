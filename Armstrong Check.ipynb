{
 "cells": [
  {
   "cell_type": "markdown",
   "metadata": {},
   "source": [
    "# Armstrong number"
   ]
  },
  {
   "cell_type": "markdown",
   "metadata": {},
   "source": [
    "An armstrong number is a number whose sum of power n (n is number of digits) of digits is equal to the number itself. (Read carefully)"
   ]
  },
  {
   "cell_type": "markdown",
   "metadata": {},
   "source": [
    "Author: Shreyash Gupta"
   ]
  },
  {
   "cell_type": "code",
   "execution_count": 3,
   "metadata": {},
   "outputs": [],
   "source": [
    "def num_of_digits(num):\n",
    "    count = 0\n",
    "    while num != 0:\n",
    "        num = num // 10\n",
    "        count = count + 1\n",
    "    return count"
   ]
  },
  {
   "cell_type": "code",
   "execution_count": 5,
   "metadata": {},
   "outputs": [],
   "source": [
    "def armstrong_check(num):\n",
    "    n = num\n",
    "    power = num_of_digits(num)\n",
    "    sum = 0\n",
    "    while n != 0:\n",
    "        digit = n % 10\n",
    "        sum = sum + (digit ** power)\n",
    "        n = n // 10\n",
    "    \n",
    "    if sum == num:\n",
    "        return \"It is an armstrong number\"\n",
    "    else:\n",
    "        return \"It is not an armstrong number\""
   ]
  },
  {
   "cell_type": "code",
   "execution_count": 7,
   "metadata": {},
   "outputs": [
    {
     "name": "stdout",
     "output_type": "stream",
     "text": [
      "Enter number: 1634\n",
      "It is an armstrong number\n"
     ]
    }
   ],
   "source": [
    "num = int(input(\"Enter number: \"))\n",
    "print(armstrong_check(num))"
   ]
  }
 ],
 "metadata": {
  "kernelspec": {
   "display_name": "Python 3",
   "language": "python",
   "name": "python3"
  },
  "language_info": {
   "codemirror_mode": {
    "name": "ipython",
    "version": 3
   },
   "file_extension": ".py",
   "mimetype": "text/x-python",
   "name": "python",
   "nbconvert_exporter": "python",
   "pygments_lexer": "ipython3",
   "version": "3.7.0"
  }
 },
 "nbformat": 4,
 "nbformat_minor": 2
}
