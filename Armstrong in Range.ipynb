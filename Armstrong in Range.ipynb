{
 "cells": [
  {
   "cell_type": "markdown",
   "metadata": {},
   "source": [
    "# Armstrong number range"
   ]
  },
  {
   "cell_type": "markdown",
   "metadata": {},
   "source": [
    "An armstrong number is a number whose sum of power n (n is number of digits) of digits is equal to the number itself. (Read carefully)"
   ]
  },
  {
   "cell_type": "markdown",
   "metadata": {},
   "source": [
    "Author: Shreyash Gupta"
   ]
  },
  {
   "cell_type": "code",
   "execution_count": 1,
   "metadata": {},
   "outputs": [],
   "source": [
    "def num_of_digits(num):\n",
    "    count = 0\n",
    "    while num != 0:\n",
    "        num = num // 10\n",
    "        count = count + 1\n",
    "    return count"
   ]
  },
  {
   "cell_type": "code",
   "execution_count": 2,
   "metadata": {},
   "outputs": [],
   "source": [
    "def armstrong_check(num):\n",
    "    n = num\n",
    "    power = num_of_digits(num)\n",
    "    sum = 0\n",
    "    while n != 0:\n",
    "        digit = n % 10\n",
    "        sum = sum + (digit ** power)\n",
    "        n = n // 10\n",
    "    \n",
    "    if sum == num:\n",
    "        return True\n",
    "    else:\n",
    "        return False"
   ]
  },
  {
   "cell_type": "code",
   "execution_count": 3,
   "metadata": {},
   "outputs": [],
   "source": [
    "def armstrong_in_range(start, end):\n",
    "    for num in range(start, end + 1):\n",
    "        if armstrong_check(num) == True:\n",
    "            print(num, sep = \" \")"
   ]
  },
  {
   "cell_type": "code",
   "execution_count": 5,
   "metadata": {},
   "outputs": [
    {
     "name": "stdout",
     "output_type": "stream",
     "text": [
      "Enter start value: 1600\n",
      "Enter end value: 1700\n",
      "1634\n"
     ]
    }
   ],
   "source": [
    "start = int(input(\"Enter start value: \"))\n",
    "end = int(input(\"Enter end value: \"))\n",
    "armstrong_in_range(start, end)"
   ]
  },
  {
   "cell_type": "code",
   "execution_count": null,
   "metadata": {},
   "outputs": [],
   "source": []
  }
 ],
 "metadata": {
  "kernelspec": {
   "display_name": "Python 3",
   "language": "python",
   "name": "python3"
  },
  "language_info": {
   "codemirror_mode": {
    "name": "ipython",
    "version": 3
   },
   "file_extension": ".py",
   "mimetype": "text/x-python",
   "name": "python",
   "nbconvert_exporter": "python",
   "pygments_lexer": "ipython3",
   "version": "3.7.0"
  }
 },
 "nbformat": 4,
 "nbformat_minor": 2
}
