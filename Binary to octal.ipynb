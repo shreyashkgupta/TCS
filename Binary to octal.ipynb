{
 "cells": [
  {
   "cell_type": "markdown",
   "metadata": {},
   "source": [
    "# Binary to octal"
   ]
  },
  {
   "cell_type": "markdown",
   "metadata": {},
   "source": [
    "Author: Shreyash Gupta"
   ]
  },
  {
   "cell_type": "code",
   "execution_count": 2,
   "metadata": {},
   "outputs": [],
   "source": [
    "def binary_to_decimal(num):\n",
    "    decimal = 0\n",
    "    mul = 1\n",
    "    for i in range(len(num) - 1, -1, -1):\n",
    "        if num[i] == '1':\n",
    "            decimal = decimal + mul\n",
    "        mul = mul * 2\n",
    "    return decimal"
   ]
  },
  {
   "cell_type": "code",
   "execution_count": 3,
   "metadata": {},
   "outputs": [],
   "source": [
    "def decimal_to_octal(num):\n",
    "    octal = 0\n",
    "    mul = 1\n",
    "    while num != 0:\n",
    "        octal = octal + ((num % 8) * mul)\n",
    "        num = num // 10\n",
    "        mul = mul * 10\n",
    "    return octal"
   ]
  },
  {
   "cell_type": "code",
   "execution_count": 4,
   "metadata": {},
   "outputs": [],
   "source": [
    "def binary_to_octal(num):\n",
    "    octal = decimal_to_octal(binary_to_decimal(num))\n",
    "    return octal"
   ]
  },
  {
   "cell_type": "code",
   "execution_count": 5,
   "metadata": {},
   "outputs": [
    {
     "name": "stdout",
     "output_type": "stream",
     "text": [
      "Enter number: 1111\n",
      "17\n"
     ]
    }
   ],
   "source": [
    "num = input(\"Enter number: \")\n",
    "print(binary_to_octal(num))"
   ]
  }
 ],
 "metadata": {
  "kernelspec": {
   "display_name": "Python 3",
   "language": "python",
   "name": "python3"
  },
  "language_info": {
   "codemirror_mode": {
    "name": "ipython",
    "version": 3
   },
   "file_extension": ".py",
   "mimetype": "text/x-python",
   "name": "python",
   "nbconvert_exporter": "python",
   "pygments_lexer": "ipython3",
   "version": "3.7.0"
  }
 },
 "nbformat": 4,
 "nbformat_minor": 2
}
