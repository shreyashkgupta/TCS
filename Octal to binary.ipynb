{
 "cells": [
  {
   "cell_type": "markdown",
   "metadata": {},
   "source": [
    "# Octal to binary"
   ]
  },
  {
   "cell_type": "markdown",
   "metadata": {},
   "source": [
    "Author: Shreyash Gupta"
   ]
  },
  {
   "cell_type": "code",
   "execution_count": 12,
   "metadata": {},
   "outputs": [],
   "source": [
    "def octal_to_decimal(num):\n",
    "    decimal = 0\n",
    "    mul = 1\n",
    "    for i in range(len(num) - 1, -1, -1):\n",
    "        if num[i] != '0':\n",
    "            decimal = decimal + (int(num[i]) * mul)\n",
    "        mul = mul * 8\n",
    "    return decimal"
   ]
  },
  {
   "cell_type": "code",
   "execution_count": 13,
   "metadata": {},
   "outputs": [],
   "source": [
    "def decimal_to_binary(num):\n",
    "    binary = 0\n",
    "    mul = 1\n",
    "    while num != 0:\n",
    "        binary = binary + ((num % 2) * mul)\n",
    "        num = num // 2\n",
    "        mul = mul * 10\n",
    "    return binary"
   ]
  },
  {
   "cell_type": "code",
   "execution_count": 14,
   "metadata": {},
   "outputs": [],
   "source": [
    "def octal_to_binary(num):\n",
    "    binary = decimal_to_binary(octal_to_decimal(num))\n",
    "    return binary"
   ]
  },
  {
   "cell_type": "code",
   "execution_count": 15,
   "metadata": {},
   "outputs": [
    {
     "name": "stdout",
     "output_type": "stream",
     "text": [
      "Enter number: 67\n",
      "110111\n"
     ]
    }
   ],
   "source": [
    "num = input(\"Enter number: \")\n",
    "print(octal_to_binary(num))"
   ]
  }
 ],
 "metadata": {
  "kernelspec": {
   "display_name": "Python 3",
   "language": "python",
   "name": "python3"
  },
  "language_info": {
   "codemirror_mode": {
    "name": "ipython",
    "version": 3
   },
   "file_extension": ".py",
   "mimetype": "text/x-python",
   "name": "python",
   "nbconvert_exporter": "python",
   "pygments_lexer": "ipython3",
   "version": "3.7.0"
  }
 },
 "nbformat": 4,
 "nbformat_minor": 2
}
