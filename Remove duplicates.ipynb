{
 "cells": [
  {
   "cell_type": "markdown",
   "metadata": {},
   "source": [
    "# Remove duplicates"
   ]
  },
  {
   "cell_type": "markdown",
   "metadata": {},
   "source": [
    "Author: Shreyash Gupta"
   ]
  },
  {
   "cell_type": "code",
   "execution_count": 1,
   "metadata": {},
   "outputs": [],
   "source": [
    "def remove_duplicate_values(num_list):\n",
    "    new_list = []\n",
    "    for num in num_list:\n",
    "        if num not in new_list:\n",
    "            new_list.append(num)\n",
    "    return new_list"
   ]
  },
  {
   "cell_type": "code",
   "execution_count": 2,
   "metadata": {},
   "outputs": [
    {
     "name": "stdout",
     "output_type": "stream",
     "text": [
      "Enter length of array: 5\n",
      "Enter number: 1\n",
      "Enter number: 2\n",
      "Enter number: 2\n",
      "Enter number: 3\n",
      "Enter number: 3\n",
      "[1, 2, 3]\n"
     ]
    }
   ],
   "source": [
    "array = []\n",
    "num_elements = int(input(\"Enter length of array: \"))\n",
    "for i in range(num_elements):\n",
    "    inp = int(input(\"Enter number: \"))\n",
    "    array.append(inp)\n",
    "    \n",
    "print(remove_duplicate_values(array))"
   ]
  }
 ],
 "metadata": {
  "kernelspec": {
   "display_name": "Python 3",
   "language": "python",
   "name": "python3"
  },
  "language_info": {
   "codemirror_mode": {
    "name": "ipython",
    "version": 3
   },
   "file_extension": ".py",
   "mimetype": "text/x-python",
   "name": "python",
   "nbconvert_exporter": "python",
   "pygments_lexer": "ipython3",
   "version": "3.7.0"
  }
 },
 "nbformat": 4,
 "nbformat_minor": 2
}
